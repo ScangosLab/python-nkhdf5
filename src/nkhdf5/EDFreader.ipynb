{
 "cells": [
  {
   "cell_type": "markdown",
   "metadata": {},
   "source": [
    "*Goals: \n",
    "- Defines function to get list of EDF files \n",
    "- Defines function to extract metadata and timeseries of EDF file in two separate dictionaries/arrays"
   ]
  },
  {
   "cell_type": "markdown",
   "metadata": {},
   "source": [
    "# Import libraries"
   ]
  },
  {
   "cell_type": "code",
   "execution_count": null,
   "metadata": {},
   "outputs": [],
   "source": [
    "import pandas as pd\n",
    "import os\n",
    "from os import sys\n",
    "from datetime import datetime, timedelta\n",
    "import pytz\n",
    "import re\n",
    "import mne\n",
    "\n",
    "pd.set_option('display.max_rows', 100)"
   ]
  },
  {
   "cell_type": "markdown",
   "metadata": {},
   "source": [
    "# User-specified Inputs"
   ]
  },
  {
   "cell_type": "code",
   "execution_count": null,
   "metadata": {},
   "outputs": [],
   "source": [
    "patient_ID       = 'PR05' # or 'PR03', 'PR05'\n",
    "EDF_MAIN         = f'/data_store0/presidio/nihon_kohden/{patient_ID}/{patient_ID}/' # folder of raw EDFs\n",
    "OUT_FN           = '/home/dastudillo/BIDS/metaEDF.csv'"
   ]
  },
  {
   "cell_type": "raw",
   "metadata": {},
   "source": [
    "#read one edf\n",
    "raw = mne.io.read_raw_edf(os.path.join(EDF_MAIN, 'PR05_0010.edf'))"
   ]
  },
  {
   "cell_type": "code",
   "execution_count": null,
   "metadata": {},
   "outputs": [],
   "source": [
    "#Gets list of all EDF files in patient's main folder \n",
    "ieeg_chan = ['OFC', 'SGC', 'R A', 'L A', 'R H', 'L H', 'VC']\n",
    "dc_chan   = ['DC']\n",
    "ekg_chan  = ['EKG']\n",
    "emg_chan  = ['EMG']\n",
    "\n",
    "def get_edf_list(edf_dir):\n",
    "    edf_list = sorted(filter(lambda x: True if 'edf' in x else False, os.listdir(edf_dir)))\n",
    "    \n",
    "    return edf_list\n",
    "\n",
    "#Gets metadeta and timeseries of EDF file within extracted list\n",
    "def edf_reader(edf_dir, edf_fn):\n",
    "\n",
    "    raw = mne.io.read_raw_edf(os.path.join(edf_dir, edf_fn))\n",
    "        \n",
    "    edf_len = timedelta(seconds=len(raw)/raw.info['sfreq']) # seconds\n",
    "    edf_start = raw.info['meas_date']\n",
    "    edf_end = edf_start + edf_len\n",
    "    ch_names_clean = [ch.split('-')[0].split('POL ')[1] for ch in raw.ch_names]\n",
    "    \n",
    "    def find_indices(lst, condition):\n",
    "        return [i for i, elem in enumerate(lst) if condition(elem)]\n",
    "    \n",
    "    def find_chantype(chan_list, index_list):\n",
    "        for i in range(len(chan_list)):\n",
    "            index_list = index_list + find_indices(ch_names_clean, lambda e: True if chan_list[i] in e else False)\n",
    "        return index_list\n",
    "\n",
    "    ieeg_idx = find_chantype(ieeg_chan, [])\n",
    "    dc_idx = find_chantype(dc_chan, [])\n",
    "    ekg_idx = find_chantype(ekg_chan, [])\n",
    "    emg_idx = find_chantype(emg_chan, [])\n",
    "    not_scalp_idx = ieeg_idx + dc_idx + ekg_idx + emg_idx\n",
    "    scalp_idx = list(set(list(range(len(ch_names_clean)))) - set(not_scalp_idx))\n",
    "    \n",
    "    chantype = ch_names_clean\n",
    "\n",
    "    for i in range(len(ieeg_idx)):\n",
    "        chantype[ieeg_idx[i]] = 'intracranial EEG'\n",
    "    for i in range(len(dc_idx)):\n",
    "        chantype[dc_idx[i]] = 'TTL'\n",
    "    for i in range(len(ekg_idx)):\n",
    "        chantype[ekg_idx[i]] = 'EKG'\n",
    "    for i in range(len(emg_idx)):\n",
    "        chantype[emg_idx[i]] = 'EMG'\n",
    "    for i in range(len(scalp_idx)):\n",
    "        chantype[scalp_idx[i]] = 'scalp EEG'\n",
    "\n",
    "    att_dic = {\n",
    "        'edf_fn': edf_fn,\n",
    "        'edf_path': os.path.join(edf_dir, edf_fn),\n",
    "        'edf_start': edf_start.replace(tzinfo=None), \n",
    "        'edf_end': edf_end.replace(tzinfo=None),\n",
    "        'edf_timezone': 'US/Pacific',\n",
    "        'edf_duration': edf_len,\n",
    "        'edf_nsample': len(raw),\n",
    "        'edf_sfreq': raw.info['sfreq'],\n",
    "        'edf_lowpass': raw.info['lowpass'],\n",
    "        'edf_highpass': raw.info['highpass'],\n",
    "        'edf_nchan': raw.info['nchan'],\n",
    "        'edf_channame': raw.info['ch_names'],\n",
    "        'edf_chantype': chantype,\n",
    "        'edf_axis': list(['chan','sample']),\n",
    "    }\n",
    "    \n",
    "    data_dic, time = raw[:,:]\n",
    "        \n",
    "    return att_dic, data_dic"
   ]
  },
  {
   "cell_type": "code",
   "execution_count": null,
   "metadata": {},
   "outputs": [],
   "source": [
    "fn_list = get_edf_list(EDF_MAIN)"
   ]
  },
  {
   "cell_type": "code",
   "execution_count": null,
   "metadata": {},
   "outputs": [],
   "source": [
    "edf_reader(EDF_MAIN, fn_list[30])"
   ]
  }
 ],
 "metadata": {
  "kernelspec": {
   "display_name": "Python 3",
   "language": "python",
   "name": "python3"
  },
  "language_info": {
   "codemirror_mode": {
    "name": "ipython",
    "version": 3
   },
   "file_extension": ".py",
   "mimetype": "text/x-python",
   "name": "python",
   "nbconvert_exporter": "python",
   "pygments_lexer": "ipython3",
   "version": "3.6.12"
  },
  "toc": {
   "base_numbering": 1,
   "nav_menu": {},
   "number_sections": true,
   "sideBar": true,
   "skip_h1_title": false,
   "title_cell": "Table of Contents",
   "title_sidebar": "Contents",
   "toc_cell": false,
   "toc_position": {
    "height": "calc(100% - 180px)",
    "left": "10px",
    "top": "150px",
    "width": "203px"
   },
   "toc_section_display": true,
   "toc_window_display": true
  }
 },
 "nbformat": 4,
 "nbformat_minor": 4
}
